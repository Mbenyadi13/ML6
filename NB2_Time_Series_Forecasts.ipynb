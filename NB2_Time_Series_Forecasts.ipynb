{
 "cells": [
  {
   "attachments": {},
   "cell_type": "markdown",
   "id": "e2dd3c2c",
   "metadata": {},
   "source": [
    "# Part 2: Time Series Forecast with ARIMA (2 days) 📈"
   ]
  },
  {
   "cell_type": "markdown",
   "id": "9a3770fe",
   "metadata": {},
   "source": [
    "Welcome to the second part of your journey towards mastering the art of forecasting with ARIMA models. We will demystify ARIMA models, beginning with its foundational principles - autoregression, differencing, moving average. Using the same dataset as in Part 1, you will fit different models and assess their quality in order to compare them. You will also learn the different way of performing train/test splits and cross-validation in the context of time series!\n",
    "\n",
    "In this notebook, we will cover the following concepts:\n",
    "- Train / Test splitting for time series\n",
    "- Naive forecasting models\n",
    "- ARIMA and SARIMA models\n",
    "- Cross-Validation for time series"
   ]
  },
  {
   "attachments": {},
   "cell_type": "markdown",
   "id": "399da4c9",
   "metadata": {},
   "source": [
    "**Objectives**\n",
    "- Get to use few prediction models\n",
    "- Understand Cross-Validation in the context of Time Series"
   ]
  },
  {
   "cell_type": "markdown",
   "id": "6744bffa",
   "metadata": {},
   "source": [
    "**Ressources**\n",
    "\n",
    "AR, MA, ARIMA :\n",
    "\n",
    "- https://www.youtube.com/watch?v=Mc6sBAUdDP4&list=PLjwX9KFWtvNnOc4HtsvaDf1XYG3O5bv5s&index=6\n",
    "- https://www.youtube.com/watch?v=zNLG8tsA_Go&list=PLjwX9KFWtvNnOc4HtsvaDf1XYG3O5bv5s&index=6\n",
    "- https://www.youtube.com/watch?v=dXND1OEBABI&list=PLjwX9KFWtvNnOc4HtsvaDf1XYG3O5bv5s&index=7\n",
    "\n",
    "ACF & PACF :\n",
    "\n",
    "- https://machinelearningmastery.com/gentle-introduction-autocorrelation-partial-autocorrelation/\n",
    "\n",
    "Métriques :\n",
    "\n",
    "- https://towardsdatascience.com/time-series-forecast-error-metrics-you-should-know-cc88b8c67f27\n",
    "\n",
    "Cross-validation :\n",
    "\n",
    "- https://stats.stackexchange.com/questions/14099/using-k-fold-cross-validation-for-time-series-model-selection\n",
    "- https://robjhyndman.com/hyndsight/tscv/\n",
    "\n",
    "Forecasting: Principles and Practice livre (Rob Hyndman) :\n",
    "\n",
    "- https://otexts.com/fpp2/\n",
    "- https://otexts.com/fpp2/non-seasonal-arima.html\n",
    "- https://otexts.com/fpp2/transformations.html\n",
    "- https://otexts.com/fpp2/seasonal-arima.html\n",
    "\n",
    "Documentation de Pmdarima:\n",
    "\n",
    "- http://alkaline-ml.com/pmdarima/\n"
   ]
  },
  {
   "cell_type": "markdown",
   "id": "2a189b1a",
   "metadata": {},
   "source": [
    "**Required librairies**\n",
    "- [ ] numpy\n",
    "- [ ] pandas\n",
    "- [ ] matplotlib\n",
    "- [ ] seaborn\n",
    "- [ ] pmdarima\n",
    "- [ ] sktime"
   ]
  },
  {
   "cell_type": "code",
   "execution_count": 1,
   "id": "839f4565",
   "metadata": {},
   "outputs": [],
   "source": [
    "# Import required packages\n",
    "import numpy as np\n",
    "import pandas as pd\n",
    "import matplotlib.pyplot as plt\n",
    "import seaborn as sns\n",
    "import pmdarima as pm\n",
    "import sktime as sk"
   ]
  },
  {
   "cell_type": "markdown",
   "id": "3ccf1ef0",
   "metadata": {},
   "source": [
    "# A bit of theory, again 😁"
   ]
  },
  {
   "attachments": {},
   "cell_type": "markdown",
   "id": "6b68a73e",
   "metadata": {},
   "source": [
    "The ARMA (AutoRegressive Moving Average) model is suitable for predicting any time series whose value $Y$ at time $t$ can be explained by previous values and previous perturbations (noise).\n",
    "\n",
    "Before specifying what a dataset is according to the ARIMA model, let's specify a dataset according to the conditions :  \n",
    "\n",
    "- **Autoregressive**: the model predicts the variable $Y$ at time $t$, denoted $Y_t$, from previous values of $Y$ according to a linear regression model, i.e. $Y_{t-1}, Y_{t-2}, ..., Y_0$. Let $p$ denote the number of components used to predict $Y_t$, with\n",
    "\n",
    "> $Y_t = \\sum_{i=1}^p \\varphi_i\\,Y_{t-i} + \\varepsilon_t + c$, with $\\varepsilon_t$ a perturbation, and c a constant.\n",
    "\n",
    "- **Moving average**: a model where the data are the result of the moving average of order $q$. The value $Y_t$ can be expressed using the perturbation at time $t$ and its previous values:\n",
    "\n",
    "> $Y_t = \\mu + \\varepsilon_t + \\sum_{1}^{q}\\theta_q\\varepsilon_{t-q}$, with $\\mu$ a constant.\n",
    "\n",
    "Any ARMA model is the combination of the *AR* and *MA* conditions, i.e. it is autoregressive and its noise follows a moving average. Let :\n",
    "\n",
    "> $Y_t = c + \\sum_{i=1}^p \\varphi_i\\,Y_{t-i} + \\varepsilon_t + \\sum_{1}^{q}\\theta_q\\varepsilon_{t_q}$\n",
    "\n",
    "or :\n",
    "\n",
    "> $Y_t - \\sum_{i=1}^p \\varphi_i Y_{t-i} = \\varepsilon_t + \\sum_{i=1}^q \\theta_i \\varepsilon_{t-i}$ with $\\varepsilon_t$ the error of the autoregressive model at time $t$.\n",
    "\n",
    "The model is optimized using the least-squares method.\n",
    "\n",
    "An ARMA model is suitable for stationary data sets, i.e. with a fixed mean and standard deviation over time. Such data are rarely observed. Many time series datasets show trends in the mean or seasonal patterns. To do this, the problem must first be stationarized. As we saw before, this can be done by differencing the data, apply a model, and then performing the reverse operation: **integration**. An **ARIMA** model is said to be :\n",
    "\n",
    "- **integrated**: when the data set can be corrected by running the model on $Y'_t = Y_t - Y_{t-1}$ for a correction of order 1 (d=1), or $Y''_t = Y_t - Y_{t-1} - Y_{t-2}$ for a correction of order 2 (d=2), etc...  We note $d$ the order of *correction by integration* to suppress polynomial tendencies of order $d$, with:\n",
    "    \n",
    "> $Ycorr_t = Y_t - \\sum_{1}^{d} Y_{t-d}$\n",
    "\n",
    "\n",
    "ARIMA models are often denoted: ARIMA(p, d, q), or **ARIMA(2, 1, 1)** means :\n",
    "- an autoregressive model of order 2,\n",
    "- on data integrated 1 times,\n",
    "- with a moving average of order 1."
   ]
  },
  {
   "cell_type": "markdown",
   "id": "823f2bd5",
   "metadata": {},
   "source": [
    "# 1. Train / Test Splitting"
   ]
  },
  {
   "cell_type": "markdown",
   "id": "31c0d6cc",
   "metadata": {},
   "source": [
    "Because the temporal order is important in time series, we cannot perform a random train/test split. Rather, we can use the most recent data (e.g. the last year) as the test set!"
   ]
  },
  {
   "cell_type": "markdown",
   "id": "bfd9c3fe",
   "metadata": {},
   "source": [
    "**TODO**\n",
    "- Explain why train/test splitting can be a challenge for time series\n",
    "- Write a function to split the dataset into a train and test set\n",
    "- Use the function to split the airline passengers dataset, keeping the last twelve months as a test set\n",
    "- Plot the train and test set in different colors"
   ]
  },
  {
   "cell_type": "code",
   "execution_count": 2,
   "id": "518601f0",
   "metadata": {},
   "outputs": [],
   "source": [
    "from sktime.datasets import load_airline\n",
    "\n",
    "# Load dataset\n",
    "airline = load_airline()\n",
    "\n",
    "# Clean & Adjust the data\n",
    "airline = airline.dropna()\n",
    "airline_adj = airline / airline.index.days_in_month"
   ]
  },
  {
   "cell_type": "code",
   "execution_count": 3,
   "id": "ce751d09",
   "metadata": {},
   "outputs": [],
   "source": [
    "def ts_train_test_split(data, split_date):\n",
    "    '''\n",
    "    Split time series into training and test data\n",
    "    \n",
    "    Parameters:\n",
    "    -------\n",
    "    data - pd.DataFrame - time series data.  Index expected as datatimeindex\n",
    "    split_date - the date on which to split the time series\n",
    "    \n",
    "    Returns:\n",
    "    --------\n",
    "    tuple (len=2) \n",
    "    0. pandas.DataFrame - training dataset\n",
    "    1. pandas.DataFrame - test dataset\n",
    "    '''\n",
    "    \n",
    "    \n",
    "    # Split\n",
    "\n",
    "    train = data[data.index < split_date]\n",
    "    test = data[data.index >= split_date]\n",
    "\n",
    "    \n",
    "\n",
    "    return train, test"
   ]
  },
  {
   "cell_type": "code",
   "execution_count": null,
   "id": "2f022a35",
   "metadata": {},
   "outputs": [
    {
     "name": "stdout",
     "output_type": "stream",
     "text": [
      "Train set: (107,)\n",
      "Test set: (37,)\n",
      "Split date: 1957-12\n"
     ]
    },
    {
     "data": {
      "text/plain": [
       "(<Figure size 1600x400 with 1 Axes>, <Axes: >)"
      ]
     },
     "execution_count": 4,
     "metadata": {},
     "output_type": "execute_result"
    },
    {
     "data": {
      "image/png": "[encoded data removed]",
      "text/plain": [
       "<Figure size 1600x400 with 1 Axes>"
      ]
     },
     "metadata": {},
     "output_type": "display_data"
    }
   ],
   "source": [
    "from sktime.utils.plotting import plot_series\n",
    "\n",
    "# Hold back the last three years as a TEST set\n",
    "split_date = airline_adj.index.max() - 3 * 12\n",
    "\n",
    "train, test = ts_train_test_split(airline_adj, split_date)\n",
    "\n",
    "# --- Check train and test sizes ---\n",
    "print(\"Train set:\", train.shape)\n",
    "print(\"Test set:\", test.shape)\n",
    "print(\"Split date:\", split_date)\n",
    "\n",
    "# --- Plot the series ---\n",
    "plot_series(train, test, labels=[\"Train\", \"Test\"])\n",
    "    \n",
    "\n",
    "\n",
    "\n"
   ]
  },
  {
   "cell_type": "markdown",
   "id": "eedb3851",
   "metadata": {},
   "source": [
    "# 2. Naive Forecast"
   ]
  },
  {
   "cell_type": "markdown",
   "id": "2722ffb5",
   "metadata": {},
   "source": [
    "We need a baseline (as always!) to know if our more complex models are any use! Given the strong seasonal component that was confirmed by the seasonal decomposition we made earlier, it may be a good idea to use a **seasonal naive** forecasting method. This model takes the value from the same period in the previous season (in this case the same month last year). This is part of the Carry-Forward-Previous-Values' family of **naive** forecasting methods. In general, if we have data with period $k$ are at time $t$ and we are predicting time $Y_{t+1}$ then we simply carry forward the value from $Y_{t+1-k}$. In other words, we have yearly data so we just take the value from the same month last year."
   ]
  },
  {
   "cell_type": "code",
   "execution_count": 5,
   "id": "6d7aa0e7",
   "metadata": {},
   "outputs": [],
   "source": [
    "from sktime.forecasting.naive import NaiveForecaster\n",
    "from sktime.forecasting.base import ForecastingHorizon\n",
    "from sktime.utils.plotting import plot_series\n",
    "\n",
    "HORIZON = 12  # We plan to make forecasts for the following 12 months\n",
    "PERIOD = 12  # Expected period of seasonality\n",
    "\n",
    "# Define the length of time into the future for which forecasts are to be prepared\n",
    "fh = ForecastingHorizon(test.index, is_relative=False)"
   ]
  },
  {
   "cell_type": "markdown",
   "id": "0b86e896",
   "metadata": {},
   "source": [
    "### 2.1 Fit a Naive Forecaster"
   ]
  },
  {
   "cell_type": "markdown",
   "id": "6a8fb9af",
   "metadata": {},
   "source": [
    "**TODO**\n",
    "- Fit a Naive and Seasonal Naive forecaster to the train data, and show the predictions along with the test data.\n",
    "- Plot the residuals using Seaborn's `displot()`, `regplot()` and `residplot()` functions."
   ]
  },
  {
   "cell_type": "code",
   "execution_count": 42,
   "id": "3317a7af",
   "metadata": {},
   "outputs": [],
   "source": [
    "# Your code for the Naive Forecaster\n",
    "#strategies:\n",
    "# auto =  last (robust against NaN values) forecast the last value in the training series when sp is 1. When sp is not 1, last value of each season in the last window will be forecasted for each season.\n",
    "#means =  (robust against NaN values)forecast the mean of last window of training series when sp is 1. When sp is not 1, mean of all values in a season from last window will be forecasted for each season.\n",
    "#drift= not robust against Naan values- forecast by fitting a line between the first and last point of the window and extrapolating it into the future.\n",
    "model = NaiveForecaster(strategy = 'last')\n"
   ]
  },
  {
   "cell_type": "code",
   "execution_count": 43,
   "id": "c0ba084d",
   "metadata": {},
   "outputs": [
    {
     "name": "stderr",
     "output_type": "stream",
     "text": [
      "/home/melanie.benyadi@Digital-Grenoble.local/anaconda3/envs/ML6bis/lib/python3.12/site-packages/skbase/base/_base.py:1342: FutureWarning: tag 'handles-missing-data' will be removed in sktime version 1.0.0 and replaced by 'capability:missing_values', please use 'capability:missing_values' instead\n",
      "  self._deprecate_tag_warn(collected_tags)\n"
     ]
    },
    {
     "data": {
      "text/html": [
       "<style>#sk-824aa4ca-7be5-4d75-823d-abb30bc3ed62 {\n",
       "    /* Definition of color scheme common for light and dark mode */\n",
       "    --sklearn-color-text: black;\n",
       "    --sklearn-color-line: gray;\n",
       "    /* Definition of color scheme for objects */\n",
       "    --sklearn-color-level-0: #fff5e6;\n",
       "    --sklearn-color-level-1: #f6e4d2;\n",
       "    --sklearn-color-level-2: #ffe0b3;\n",
       "    --sklearn-color-level-3: chocolate;\n",
       "\n",
       "    /* Specific color for light theme */\n",
       "    --sklearn-color-text-on-default-background: var(--theme-code-foreground, var(--jp-content-font-color1, black));\n",
       "    --sklearn-color-background: var(--theme-background, var(--jp-layout-color0, white));\n",
       "    --sklearn-color-border-box: var(--theme-code-foreground, var(--jp-content-font-color1, black));\n",
       "    --sklearn-color-icon: #696969;\n",
       "\n",
       "    @media (prefers-color-scheme: dark) {\n",
       "      /* Redefinition of color scheme for dark theme */\n",
       "      --sklearn-color-text-on-default-background: var(--theme-code-foreground, var(--jp-content-font-color1, white));\n",
       "      --sklearn-color-background: var(--theme-background, var(--jp-layout-color0, #111));\n",
       "      --sklearn-color-border-box: var(--theme-code-foreground, var(--jp-content-font-color1, white));\n",
       "      --sklearn-color-icon: #878787;\n",
       "    }\n",
       "  }\n",
       "\n",
       "  #sk-824aa4ca-7be5-4d75-823d-abb30bc3ed62 {\n",
       "    color: var(--sklearn-color-text);\n",
       "  }\n",
       "\n",
       "  #sk-824aa4ca-7be5-4d75-823d-abb30bc3ed62 pre {\n",
       "    padding: 0;\n",
       "  }\n",
       "\n",
       "  #sk-824aa4ca-7be5-4d75-823d-abb30bc3ed62 input.sk-hidden--visually {\n",
       "    border: 0;\n",
       "    clip: rect(1px 1px 1px 1px);\n",
       "    clip: rect(1px, 1px, 1px, 1px);\n",
       "    height: 1px;\n",
       "    margin: -1px;\n",
       "    overflow: hidden;\n",
       "    padding: 0;\n",
       "    position: absolute;\n",
       "    width: 1px;\n",
       "  }\n",
       "\n",
       "  #sk-824aa4ca-7be5-4d75-823d-abb30bc3ed62 div.sk-dashed-wrapped {\n",
       "    border: 1px dashed var(--sklearn-color-line);\n",
       "    margin: 0 0.4em 0.5em 0.4em;\n",
       "    box-sizing: border-box;\n",
       "    padding-bottom: 0.4em;\n",
       "    background-color: var(--sklearn-color-background);\n",
       "  }\n",
       "\n",
       "  #sk-824aa4ca-7be5-4d75-823d-abb30bc3ed62 div.sk-container {\n",
       "    /* jupyter's `normalize.less` sets `[hidden] { display: none; }`\n",
       "       but bootstrap.min.css set `[hidden] { display: none !important; }`\n",
       "       so we also need the `!important` here to be able to override the\n",
       "       default hidden behavior on the sphinx rendered scikit-learn.org.\n",
       "       See: https://github.com/scikit-learn/scikit-learn/issues/21755 */\n",
       "    display: inline-block !important;\n",
       "    position: relative;\n",
       "  }\n",
       "\n",
       "  #sk-824aa4ca-7be5-4d75-823d-abb30bc3ed62 div.sk-text-repr-fallback {\n",
       "    display: none;\n",
       "  }\n",
       "\n",
       "  div.sk-parallel-item,\n",
       "  div.sk-serial,\n",
       "  div.sk-item {\n",
       "    /* draw centered vertical line to link estimators */\n",
       "    background-image: linear-gradient(var(--sklearn-color-text-on-default-background), var(--sklearn-color-text-on-default-background));\n",
       "    background-size: 2px 100%;\n",
       "    background-repeat: no-repeat;\n",
       "    background-position: center center;\n",
       "  }\n",
       "\n",
       "  /* Parallel-specific style estimator block */\n",
       "\n",
       "  #sk-824aa4ca-7be5-4d75-823d-abb30bc3ed62 div.sk-parallel-item::after {\n",
       "    content: \"\";\n",
       "    width: 100%;\n",
       "    border-bottom: 2px solid var(--sklearn-color-text-on-default-background);\n",
       "    flex-grow: 1;\n",
       "  }\n",
       "\n",
       "  #sk-824aa4ca-7be5-4d75-823d-abb30bc3ed62 div.sk-parallel {\n",
       "    display: flex;\n",
       "    align-items: stretch;\n",
       "    justify-content: center;\n",
       "    background-color: var(--sklearn-color-background);\n",
       "    position: relative;\n",
       "  }\n",
       "\n",
       "  #sk-824aa4ca-7be5-4d75-823d-abb30bc3ed62 div.sk-parallel-item {\n",
       "    display: flex;\n",
       "    flex-direction: column;\n",
       "  }\n",
       "\n",
       "  #sk-824aa4ca-7be5-4d75-823d-abb30bc3ed62 div.sk-parallel-item:first-child::after {\n",
       "    align-self: flex-end;\n",
       "    width: 50%;\n",
       "  }\n",
       "\n",
       "  #sk-824aa4ca-7be5-4d75-823d-abb30bc3ed62 div.sk-parallel-item:last-child::after {\n",
       "    align-self: flex-start;\n",
       "    width: 50%;\n",
       "  }\n",
       "\n",
       "  #sk-824aa4ca-7be5-4d75-823d-abb30bc3ed62 div.sk-parallel-item:only-child::after {\n",
       "    width: 0;\n",
       "  }\n",
       "\n",
       "  /* Serial-specific style estimator block */\n",
       "\n",
       "  #sk-824aa4ca-7be5-4d75-823d-abb30bc3ed62 div.sk-serial {\n",
       "    display: flex;\n",
       "    flex-direction: column;\n",
       "    align-items: center;\n",
       "    background-color: var(--sklearn-color-background);\n",
       "    padding-right: 1em;\n",
       "    padding-left: 1em;\n",
       "  }\n",
       "\n",
       "\n",
       "  /* Toggleable style: style used for estimator/Pipeline/ColumnTransformer box that is\n",
       "  clickable and can be expanded/collapsed.\n",
       "  - Pipeline and ColumnTransformer use this feature and define the default style\n",
       "  - Estimators will overwrite some part of the style using the `sk-estimator` class\n",
       "  */\n",
       "\n",
       "  /* Pipeline and ColumnTransformer style (default) */\n",
       "\n",
       "  #sk-824aa4ca-7be5-4d75-823d-abb30bc3ed62 div.sk-toggleable {\n",
       "    /* Default theme specific background. It is overwritten whether we have a\n",
       "    specific estimator or a Pipeline/ColumnTransformer */\n",
       "    background-color: var(--sklearn-color-background);\n",
       "  }\n",
       "\n",
       "  /* Toggleable label */\n",
       "  #sk-824aa4ca-7be5-4d75-823d-abb30bc3ed62 label.sk-toggleable__label {\n",
       "    cursor: pointer;\n",
       "    display: block;\n",
       "    width: 100%;\n",
       "    margin-bottom: 0;\n",
       "    padding: 0.5em;\n",
       "    box-sizing: border-box;\n",
       "    text-align: center;\n",
       "  }\n",
       "\n",
       "  #sk-824aa4ca-7be5-4d75-823d-abb30bc3ed62 label.sk-toggleable__label-arrow:before {\n",
       "    /* Arrow on the left of the label */\n",
       "    content: \"▸\";\n",
       "    float: left;\n",
       "    margin-right: 0.25em;\n",
       "    color: var(--sklearn-color-icon);\n",
       "  }\n",
       "\n",
       "  #sk-824aa4ca-7be5-4d75-823d-abb30bc3ed62 label.sk-toggleable__label-arrow:hover:before {\n",
       "    color: var(--sklearn-color-text);\n",
       "  }\n",
       "\n",
       "  /* Toggleable content - dropdown */\n",
       "\n",
       "  #sk-824aa4ca-7be5-4d75-823d-abb30bc3ed62 div.sk-toggleable__content {\n",
       "    max-height: 0;\n",
       "    max-width: 0;\n",
       "    overflow: hidden;\n",
       "    text-align: left;\n",
       "    background-color: var(--sklearn-color-level-0);\n",
       "  }\n",
       "\n",
       "  #sk-824aa4ca-7be5-4d75-823d-abb30bc3ed62 div.sk-toggleable__content pre {\n",
       "    margin: 0.2em;\n",
       "    border-radius: 0.25em;\n",
       "    color: var(--sklearn-color-text);\n",
       "    background-color: var(--sklearn-color-level-0);\n",
       "  }\n",
       "\n",
       "  #sk-824aa4ca-7be5-4d75-823d-abb30bc3ed62 input.sk-toggleable__control:checked~div.sk-toggleable__content {\n",
       "    /* Expand drop-down */\n",
       "    max-height: 200px;\n",
       "    max-width: 100%;\n",
       "    overflow: auto;\n",
       "  }\n",
       "\n",
       "  #sk-824aa4ca-7be5-4d75-823d-abb30bc3ed62 input.sk-toggleable__control:checked~label.sk-toggleable__label-arrow:before {\n",
       "    content: \"▾\";\n",
       "  }\n",
       "\n",
       "  /* Pipeline/ColumnTransformer-specific style */\n",
       "\n",
       "  #sk-824aa4ca-7be5-4d75-823d-abb30bc3ed62 div.sk-label input.sk-toggleable__control:checked~label.sk-toggleable__label {\n",
       "    color: var(--sklearn-color-text);\n",
       "    background-color: var(--sklearn-color-level-2);\n",
       "  }\n",
       "\n",
       "  /* Estimator-specific style */\n",
       "\n",
       "  /* Colorize estimator box */\n",
       "  #sk-824aa4ca-7be5-4d75-823d-abb30bc3ed62 div.sk-estimator input.sk-toggleable__control:checked~label.sk-toggleable__label {\n",
       "    /* unfitted */\n",
       "    background-color: var(--sklearn-color-level-2);\n",
       "  }\n",
       "\n",
       "  #sk-824aa4ca-7be5-4d75-823d-abb30bc3ed62 div.sk-label label.sk-toggleable__label,\n",
       "  #sk-824aa4ca-7be5-4d75-823d-abb30bc3ed62 div.sk-label label {\n",
       "    /* The background is the default theme color */\n",
       "    color: var(--sklearn-color-text-on-default-background);\n",
       "  }\n",
       "\n",
       "  /* On hover, darken the color of the background */\n",
       "  #sk-824aa4ca-7be5-4d75-823d-abb30bc3ed62 div.sk-label:hover label.sk-toggleable__label {\n",
       "    color: var(--sklearn-color-text);\n",
       "    background-color: var(--sklearn-color-level-2);\n",
       "  }\n",
       "\n",
       "  /* Estimator label */\n",
       "\n",
       "  #sk-824aa4ca-7be5-4d75-823d-abb30bc3ed62 div.sk-label label {\n",
       "    font-family: monospace;\n",
       "    font-weight: bold;\n",
       "    display: inline-block;\n",
       "    line-height: 1.2em;\n",
       "  }\n",
       "\n",
       "  #sk-824aa4ca-7be5-4d75-823d-abb30bc3ed62 div.sk-label-container {\n",
       "    text-align: center;\n",
       "  }\n",
       "\n",
       "  /* Estimator-specific */\n",
       "  #sk-824aa4ca-7be5-4d75-823d-abb30bc3ed62 div.sk-estimator {\n",
       "    font-family: monospace;\n",
       "    border: 1px dotted var(--sklearn-color-border-box);\n",
       "    border-radius: 0.25em;\n",
       "    box-sizing: border-box;\n",
       "    margin-bottom: 0.5em;\n",
       "    background-color: var(--sklearn-color-level-0);\n",
       "  }\n",
       "\n",
       "  /* on hover */\n",
       "  #sk-824aa4ca-7be5-4d75-823d-abb30bc3ed62 div.sk-estimator:hover {\n",
       "    background-color: var(--sklearn-color-level-2);\n",
       "  }\n",
       "\n",
       "  /* Specification for estimator info */\n",
       "\n",
       "  .sk-estimator-doc-link,\n",
       "  a:link.sk-estimator-doc-link,\n",
       "  a:visited.sk-estimator-doc-link {\n",
       "    float: right;\n",
       "    font-size: smaller;\n",
       "    line-height: 1em;\n",
       "    font-family: monospace;\n",
       "    background-color: var(--sklearn-color-background);\n",
       "    border-radius: 1em;\n",
       "    height: 1em;\n",
       "    width: 1em;\n",
       "    text-decoration: none !important;\n",
       "    margin-left: 1ex;\n",
       "    border: var(--sklearn-color-level-1) 1pt solid;\n",
       "    color: var(--sklearn-color-level-1);\n",
       "  }\n",
       "\n",
       "  /* On hover */\n",
       "  div.sk-estimator:hover .sk-estimator-doc-link:hover,\n",
       "  .sk-estimator-doc-link:hover,\n",
       "  div.sk-label-container:hover .sk-estimator-doc-link:hover,\n",
       "  .sk-estimator-doc-link:hover {\n",
       "    background-color: var(--sklearn-color-level-3);\n",
       "    color: var(--sklearn-color-background);\n",
       "    text-decoration: none;\n",
       "  }\n",
       "\n",
       "  /* Span, style for the box shown on hovering the info icon */\n",
       "  .sk-estimator-doc-link span {\n",
       "    display: none;\n",
       "    z-index: 9999;\n",
       "    position: relative;\n",
       "    font-weight: normal;\n",
       "    right: .2ex;\n",
       "    padding: .5ex;\n",
       "    margin: .5ex;\n",
       "    width: min-content;\n",
       "    min-width: 20ex;\n",
       "    max-width: 50ex;\n",
       "    color: var(--sklearn-color-text);\n",
       "    box-shadow: 2pt 2pt 4pt #999;\n",
       "    background: var(--sklearn-color-level-0);\n",
       "    border: .5pt solid var(--sklearn-color-level-3);\n",
       "  }\n",
       "\n",
       "  .sk-estimator-doc-link:hover span {\n",
       "    display: block;\n",
       "  }\n",
       "\n",
       "  /* \"?\"-specific style due to the `<a>` HTML tag */\n",
       "\n",
       "  #sk-824aa4ca-7be5-4d75-823d-abb30bc3ed62 a.estimator_doc_link {\n",
       "    float: right;\n",
       "    font-size: 1rem;\n",
       "    line-height: 1em;\n",
       "    font-family: monospace;\n",
       "    background-color: var(--sklearn-color-background);\n",
       "    border-radius: 1rem;\n",
       "    height: 1rem;\n",
       "    width: 1rem;\n",
       "    text-decoration: none;\n",
       "    color: var(--sklearn-color-level-1);\n",
       "    border: var(--sklearn-color-level-1) 1pt solid;\n",
       "  }\n",
       "\n",
       "  /* On hover */\n",
       "  #sk-824aa4ca-7be5-4d75-823d-abb30bc3ed62 a.estimator_doc_link:hover {\n",
       "    background-color: var(--sklearn-color-level-3);\n",
       "    color: var(--sklearn-color-background);\n",
       "    text-decoration: none;\n",
       "  }\n",
       "</style><div id='sk-824aa4ca-7be5-4d75-823d-abb30bc3ed62' class=\"sk-top-container\"><div class=\"sk-text-repr-fallback\"><pre>NaiveForecaster()</pre><b>Please rerun this cell to show the HTML repr or trust the notebook.</b></div><div class=\"sk-container\" hidden><div class='sk-item'><div class=\"sk-estimator sk-toggleable\"><input class=\"sk-toggleable__control sk-hidden--visually\" id=UUID('4f1f3706-893e-42af-bb91-f823bfac36d4') type=\"checkbox\" checked><label for=UUID('4f1f3706-893e-42af-bb91-f823bfac36d4') class='sk-toggleable__label sk-toggleable__label-arrow'>NaiveForecaster<a class=\"sk-estimator-doc-link\" rel=\"noreferrer\" target=\"_blank\" href=\"https://www.sktime.net/en/v0.38.5/api_reference/auto_generated/sktime.forecasting.naive.NaiveForecaster.html\">?<span>Documentation for NaiveForecaster</span></a></label><div class=\"sk-toggleable__content\"><pre>NaiveForecaster()</pre></div></div></div></div></div>"
      ],
      "text/plain": [
       "NaiveForecaster()"
      ]
     },
     "execution_count": 43,
     "metadata": {},
     "output_type": "execute_result"
    }
   ],
   "source": [
    "#Train \n",
    "model.fit(train)"
   ]
  },
  {
   "cell_type": "code",
   "execution_count": 44,
   "id": "a4806378",
   "metadata": {},
   "outputs": [
    {
     "data": {
      "text/plain": [
       "1957-12    10.166667\n",
       "1958-01    10.166667\n",
       "1958-02    10.166667\n",
       "1958-03    10.166667\n",
       "1958-04    10.166667\n",
       "1958-05    10.166667\n",
       "1958-06    10.166667\n",
       "1958-07    10.166667\n",
       "1958-08    10.166667\n",
       "1958-09    10.166667\n",
       "1958-10    10.166667\n",
       "1958-11    10.166667\n",
       "1958-12    10.166667\n",
       "1959-01    10.166667\n",
       "1959-02    10.166667\n",
       "1959-03    10.166667\n",
       "1959-04    10.166667\n",
       "1959-05    10.166667\n",
       "1959-06    10.166667\n",
       "1959-07    10.166667\n",
       "1959-08    10.166667\n",
       "1959-09    10.166667\n",
       "1959-10    10.166667\n",
       "1959-11    10.166667\n",
       "1959-12    10.166667\n",
       "1960-01    10.166667\n",
       "1960-02    10.166667\n",
       "1960-03    10.166667\n",
       "1960-04    10.166667\n",
       "1960-05    10.166667\n",
       "1960-06    10.166667\n",
       "1960-07    10.166667\n",
       "1960-08    10.166667\n",
       "1960-09    10.166667\n",
       "1960-10    10.166667\n",
       "1960-11    10.166667\n",
       "1960-12    10.166667\n",
       "Freq: M, dtype: float64"
      ]
     },
     "execution_count": 44,
     "metadata": {},
     "output_type": "execute_result"
    }
   ],
   "source": [
    "#Predict\n",
    "y_pred = model.predict(fh)\n",
    "y_pred"
   ]
  },
  {
   "cell_type": "code",
   "execution_count": null,
   "id": "3ae3d8d9",
   "metadata": {},
   "outputs": [],
   "source": [
    "# Your code for the Seasonal Naive Forecaster\n",
    "model2 = NaiveForecaster(strategy = 'last', sp = 12)"
   ]
  },
  {
   "cell_type": "code",
   "execution_count": 46,
   "id": "90093e07",
   "metadata": {},
   "outputs": [
    {
     "name": "stderr",
     "output_type": "stream",
     "text": [
      "/home/melanie.benyadi@Digital-Grenoble.local/anaconda3/envs/ML6bis/lib/python3.12/site-packages/sktime/forecasting/naive/_naive.py:190: UserWarning: For the `drift` strategy, the `sp` value will be ignored.\n",
      "  warn(\n"
     ]
    },
    {
     "data": {
      "text/html": [
       "<style>#sk-67f990d4-e9f4-4751-9a44-bfd0d1192b5f {\n",
       "    /* Definition of color scheme common for light and dark mode */\n",
       "    --sklearn-color-text: black;\n",
       "    --sklearn-color-line: gray;\n",
       "    /* Definition of color scheme for objects */\n",
       "    --sklearn-color-level-0: #fff5e6;\n",
       "    --sklearn-color-level-1: #f6e4d2;\n",
       "    --sklearn-color-level-2: #ffe0b3;\n",
       "    --sklearn-color-level-3: chocolate;\n",
       "\n",
       "    /* Specific color for light theme */\n",
       "    --sklearn-color-text-on-default-background: var(--theme-code-foreground, var(--jp-content-font-color1, black));\n",
       "    --sklearn-color-background: var(--theme-background, var(--jp-layout-color0, white));\n",
       "    --sklearn-color-border-box: var(--theme-code-foreground, var(--jp-content-font-color1, black));\n",
       "    --sklearn-color-icon: #696969;\n",
       "\n",
       "    @media (prefers-color-scheme: dark) {\n",
       "      /* Redefinition of color scheme for dark theme */\n",
       "      --sklearn-color-text-on-default-background: var(--theme-code-foreground, var(--jp-content-font-color1, white));\n",
       "      --sklearn-color-background: var(--theme-background, var(--jp-layout-color0, #111));\n",
       "      --sklearn-color-border-box: var(--theme-code-foreground, var(--jp-content-font-color1, white));\n",
       "      --sklearn-color-icon: #878787;\n",
       "    }\n",
       "  }\n",
       "\n",
       "  #sk-67f990d4-e9f4-4751-9a44-bfd0d1192b5f {\n",
       "    color: var(--sklearn-color-text);\n",
       "  }\n",
       "\n",
       "  #sk-67f990d4-e9f4-4751-9a44-bfd0d1192b5f pre {\n",
       "    padding: 0;\n",
       "  }\n",
       "\n",
       "  #sk-67f990d4-e9f4-4751-9a44-bfd0d1192b5f input.sk-hidden--visually {\n",
       "    border: 0;\n",
       "    clip: rect(1px 1px 1px 1px);\n",
       "    clip: rect(1px, 1px, 1px, 1px);\n",
       "    height: 1px;\n",
       "    margin: -1px;\n",
       "    overflow: hidden;\n",
       "    padding: 0;\n",
       "    position: absolute;\n",
       "    width: 1px;\n",
       "  }\n",
       "\n",
       "  #sk-67f990d4-e9f4-4751-9a44-bfd0d1192b5f div.sk-dashed-wrapped {\n",
       "    border: 1px dashed var(--sklearn-color-line);\n",
       "    margin: 0 0.4em 0.5em 0.4em;\n",
       "    box-sizing: border-box;\n",
       "    padding-bottom: 0.4em;\n",
       "    background-color: var(--sklearn-color-background);\n",
       "  }\n",
       "\n",
       "  #sk-67f990d4-e9f4-4751-9a44-bfd0d1192b5f div.sk-container {\n",
       "    /* jupyter's `normalize.less` sets `[hidden] { display: none; }`\n",
       "       but bootstrap.min.css set `[hidden] { display: none !important; }`\n",
       "       so we also need the `!important` here to be able to override the\n",
       "       default hidden behavior on the sphinx rendered scikit-learn.org.\n",
       "       See: https://github.com/scikit-learn/scikit-learn/issues/21755 */\n",
       "    display: inline-block !important;\n",
       "    position: relative;\n",
       "  }\n",
       "\n",
       "  #sk-67f990d4-e9f4-4751-9a44-bfd0d1192b5f div.sk-text-repr-fallback {\n",
       "    display: none;\n",
       "  }\n",
       "\n",
       "  div.sk-parallel-item,\n",
       "  div.sk-serial,\n",
       "  div.sk-item {\n",
       "    /* draw centered vertical line to link estimators */\n",
       "    background-image: linear-gradient(var(--sklearn-color-text-on-default-background), var(--sklearn-color-text-on-default-background));\n",
       "    background-size: 2px 100%;\n",
       "    background-repeat: no-repeat;\n",
       "    background-position: center center;\n",
       "  }\n",
       "\n",
       "  /* Parallel-specific style estimator block */\n",
       "\n",
       "  #sk-67f990d4-e9f4-4751-9a44-bfd0d1192b5f div.sk-parallel-item::after {\n",
       "    content: \"\";\n",
       "    width: 100%;\n",
       "    border-bottom: 2px solid var(--sklearn-color-text-on-default-background);\n",
       "    flex-grow: 1;\n",
       "  }\n",
       "\n",
       "  #sk-67f990d4-e9f4-4751-9a44-bfd0d1192b5f div.sk-parallel {\n",
       "    display: flex;\n",
       "    align-items: stretch;\n",
       "    justify-content: center;\n",
       "    background-color: var(--sklearn-color-background);\n",
       "    position: relative;\n",
       "  }\n",
       "\n",
       "  #sk-67f990d4-e9f4-4751-9a44-bfd0d1192b5f div.sk-parallel-item {\n",
       "    display: flex;\n",
       "    flex-direction: column;\n",
       "  }\n",
       "\n",
       "  #sk-67f990d4-e9f4-4751-9a44-bfd0d1192b5f div.sk-parallel-item:first-child::after {\n",
       "    align-self: flex-end;\n",
       "    width: 50%;\n",
       "  }\n",
       "\n",
       "  #sk-67f990d4-e9f4-4751-9a44-bfd0d1192b5f div.sk-parallel-item:last-child::after {\n",
       "    align-self: flex-start;\n",
       "    width: 50%;\n",
       "  }\n",
       "\n",
       "  #sk-67f990d4-e9f4-4751-9a44-bfd0d1192b5f div.sk-parallel-item:only-child::after {\n",
       "    width: 0;\n",
       "  }\n",
       "\n",
       "  /* Serial-specific style estimator block */\n",
       "\n",
       "  #sk-67f990d4-e9f4-4751-9a44-bfd0d1192b5f div.sk-serial {\n",
       "    display: flex;\n",
       "    flex-direction: column;\n",
       "    align-items: center;\n",
       "    background-color: var(--sklearn-color-background);\n",
       "    padding-right: 1em;\n",
       "    padding-left: 1em;\n",
       "  }\n",
       "\n",
       "\n",
       "  /* Toggleable style: style used for estimator/Pipeline/ColumnTransformer box that is\n",
       "  clickable and can be expanded/collapsed.\n",
       "  - Pipeline and ColumnTransformer use this feature and define the default style\n",
       "  - Estimators will overwrite some part of the style using the `sk-estimator` class\n",
       "  */\n",
       "\n",
       "  /* Pipeline and ColumnTransformer style (default) */\n",
       "\n",
       "  #sk-67f990d4-e9f4-4751-9a44-bfd0d1192b5f div.sk-toggleable {\n",
       "    /* Default theme specific background. It is overwritten whether we have a\n",
       "    specific estimator or a Pipeline/ColumnTransformer */\n",
       "    background-color: var(--sklearn-color-background);\n",
       "  }\n",
       "\n",
       "  /* Toggleable label */\n",
       "  #sk-67f990d4-e9f4-4751-9a44-bfd0d1192b5f label.sk-toggleable__label {\n",
       "    cursor: pointer;\n",
       "    display: block;\n",
       "    width: 100%;\n",
       "    margin-bottom: 0;\n",
       "    padding: 0.5em;\n",
       "    box-sizing: border-box;\n",
       "    text-align: center;\n",
       "  }\n",
       "\n",
       "  #sk-67f990d4-e9f4-4751-9a44-bfd0d1192b5f label.sk-toggleable__label-arrow:before {\n",
       "    /* Arrow on the left of the label */\n",
       "    content: \"▸\";\n",
       "    float: left;\n",
       "    margin-right: 0.25em;\n",
       "    color: var(--sklearn-color-icon);\n",
       "  }\n",
       "\n",
       "  #sk-67f990d4-e9f4-4751-9a44-bfd0d1192b5f label.sk-toggleable__label-arrow:hover:before {\n",
       "    color: var(--sklearn-color-text);\n",
       "  }\n",
       "\n",
       "  /* Toggleable content - dropdown */\n",
       "\n",
       "  #sk-67f990d4-e9f4-4751-9a44-bfd0d1192b5f div.sk-toggleable__content {\n",
       "    max-height: 0;\n",
       "    max-width: 0;\n",
       "    overflow: hidden;\n",
       "    text-align: left;\n",
       "    background-color: var(--sklearn-color-level-0);\n",
       "  }\n",
       "\n",
       "  #sk-67f990d4-e9f4-4751-9a44-bfd0d1192b5f div.sk-toggleable__content pre {\n",
       "    margin: 0.2em;\n",
       "    border-radius: 0.25em;\n",
       "    color: var(--sklearn-color-text);\n",
       "    background-color: var(--sklearn-color-level-0);\n",
       "  }\n",
       "\n",
       "  #sk-67f990d4-e9f4-4751-9a44-bfd0d1192b5f input.sk-toggleable__control:checked~div.sk-toggleable__content {\n",
       "    /* Expand drop-down */\n",
       "    max-height: 200px;\n",
       "    max-width: 100%;\n",
       "    overflow: auto;\n",
       "  }\n",
       "\n",
       "  #sk-67f990d4-e9f4-4751-9a44-bfd0d1192b5f input.sk-toggleable__control:checked~label.sk-toggleable__label-arrow:before {\n",
       "    content: \"▾\";\n",
       "  }\n",
       "\n",
       "  /* Pipeline/ColumnTransformer-specific style */\n",
       "\n",
       "  #sk-67f990d4-e9f4-4751-9a44-bfd0d1192b5f div.sk-label input.sk-toggleable__control:checked~label.sk-toggleable__label {\n",
       "    color: var(--sklearn-color-text);\n",
       "    background-color: var(--sklearn-color-level-2);\n",
       "  }\n",
       "\n",
       "  /* Estimator-specific style */\n",
       "\n",
       "  /* Colorize estimator box */\n",
       "  #sk-67f990d4-e9f4-4751-9a44-bfd0d1192b5f div.sk-estimator input.sk-toggleable__control:checked~label.sk-toggleable__label {\n",
       "    /* unfitted */\n",
       "    background-color: var(--sklearn-color-level-2);\n",
       "  }\n",
       "\n",
       "  #sk-67f990d4-e9f4-4751-9a44-bfd0d1192b5f div.sk-label label.sk-toggleable__label,\n",
       "  #sk-67f990d4-e9f4-4751-9a44-bfd0d1192b5f div.sk-label label {\n",
       "    /* The background is the default theme color */\n",
       "    color: var(--sklearn-color-text-on-default-background);\n",
       "  }\n",
       "\n",
       "  /* On hover, darken the color of the background */\n",
       "  #sk-67f990d4-e9f4-4751-9a44-bfd0d1192b5f div.sk-label:hover label.sk-toggleable__label {\n",
       "    color: var(--sklearn-color-text);\n",
       "    background-color: var(--sklearn-color-level-2);\n",
       "  }\n",
       "\n",
       "  /* Estimator label */\n",
       "\n",
       "  #sk-67f990d4-e9f4-4751-9a44-bfd0d1192b5f div.sk-label label {\n",
       "    font-family: monospace;\n",
       "    font-weight: bold;\n",
       "    display: inline-block;\n",
       "    line-height: 1.2em;\n",
       "  }\n",
       "\n",
       "  #sk-67f990d4-e9f4-4751-9a44-bfd0d1192b5f div.sk-label-container {\n",
       "    text-align: center;\n",
       "  }\n",
       "\n",
       "  /* Estimator-specific */\n",
       "  #sk-67f990d4-e9f4-4751-9a44-bfd0d1192b5f div.sk-estimator {\n",
       "    font-family: monospace;\n",
       "    border: 1px dotted var(--sklearn-color-border-box);\n",
       "    border-radius: 0.25em;\n",
       "    box-sizing: border-box;\n",
       "    margin-bottom: 0.5em;\n",
       "    background-color: var(--sklearn-color-level-0);\n",
       "  }\n",
       "\n",
       "  /* on hover */\n",
       "  #sk-67f990d4-e9f4-4751-9a44-bfd0d1192b5f div.sk-estimator:hover {\n",
       "    background-color: var(--sklearn-color-level-2);\n",
       "  }\n",
       "\n",
       "  /* Specification for estimator info */\n",
       "\n",
       "  .sk-estimator-doc-link,\n",
       "  a:link.sk-estimator-doc-link,\n",
       "  a:visited.sk-estimator-doc-link {\n",
       "    float: right;\n",
       "    font-size: smaller;\n",
       "    line-height: 1em;\n",
       "    font-family: monospace;\n",
       "    background-color: var(--sklearn-color-background);\n",
       "    border-radius: 1em;\n",
       "    height: 1em;\n",
       "    width: 1em;\n",
       "    text-decoration: none !important;\n",
       "    margin-left: 1ex;\n",
       "    border: var(--sklearn-color-level-1) 1pt solid;\n",
       "    color: var(--sklearn-color-level-1);\n",
       "  }\n",
       "\n",
       "  /* On hover */\n",
       "  div.sk-estimator:hover .sk-estimator-doc-link:hover,\n",
       "  .sk-estimator-doc-link:hover,\n",
       "  div.sk-label-container:hover .sk-estimator-doc-link:hover,\n",
       "  .sk-estimator-doc-link:hover {\n",
       "    background-color: var(--sklearn-color-level-3);\n",
       "    color: var(--sklearn-color-background);\n",
       "    text-decoration: none;\n",
       "  }\n",
       "\n",
       "  /* Span, style for the box shown on hovering the info icon */\n",
       "  .sk-estimator-doc-link span {\n",
       "    display: none;\n",
       "    z-index: 9999;\n",
       "    position: relative;\n",
       "    font-weight: normal;\n",
       "    right: .2ex;\n",
       "    padding: .5ex;\n",
       "    margin: .5ex;\n",
       "    width: min-content;\n",
       "    min-width: 20ex;\n",
       "    max-width: 50ex;\n",
       "    color: var(--sklearn-color-text);\n",
       "    box-shadow: 2pt 2pt 4pt #999;\n",
       "    background: var(--sklearn-color-level-0);\n",
       "    border: .5pt solid var(--sklearn-color-level-3);\n",
       "  }\n",
       "\n",
       "  .sk-estimator-doc-link:hover span {\n",
       "    display: block;\n",
       "  }\n",
       "\n",
       "  /* \"?\"-specific style due to the `<a>` HTML tag */\n",
       "\n",
       "  #sk-67f990d4-e9f4-4751-9a44-bfd0d1192b5f a.estimator_doc_link {\n",
       "    float: right;\n",
       "    font-size: 1rem;\n",
       "    line-height: 1em;\n",
       "    font-family: monospace;\n",
       "    background-color: var(--sklearn-color-background);\n",
       "    border-radius: 1rem;\n",
       "    height: 1rem;\n",
       "    width: 1rem;\n",
       "    text-decoration: none;\n",
       "    color: var(--sklearn-color-level-1);\n",
       "    border: var(--sklearn-color-level-1) 1pt solid;\n",
       "  }\n",
       "\n",
       "  /* On hover */\n",
       "  #sk-67f990d4-e9f4-4751-9a44-bfd0d1192b5f a.estimator_doc_link:hover {\n",
       "    background-color: var(--sklearn-color-level-3);\n",
       "    color: var(--sklearn-color-background);\n",
       "    text-decoration: none;\n",
       "  }\n",
       "</style><div id='sk-67f990d4-e9f4-4751-9a44-bfd0d1192b5f' class=\"sk-top-container\"><div class=\"sk-text-repr-fallback\"><pre>NaiveForecaster(sp=12, strategy=&#x27;drift&#x27;)</pre><b>Please rerun this cell to show the HTML repr or trust the notebook.</b></div><div class=\"sk-container\" hidden><div class='sk-item'><div class=\"sk-estimator sk-toggleable\"><input class=\"sk-toggleable__control sk-hidden--visually\" id=UUID('14e5bc44-71f9-4d0d-ab82-7e5e0a405427') type=\"checkbox\" checked><label for=UUID('14e5bc44-71f9-4d0d-ab82-7e5e0a405427') class='sk-toggleable__label sk-toggleable__label-arrow'>NaiveForecaster<a class=\"sk-estimator-doc-link\" rel=\"noreferrer\" target=\"_blank\" href=\"https://www.sktime.net/en/v0.38.5/api_reference/auto_generated/sktime.forecasting.naive.NaiveForecaster.html\">?<span>Documentation for NaiveForecaster</span></a></label><div class=\"sk-toggleable__content\"><pre>NaiveForecaster(sp=12, strategy=&#x27;drift&#x27;)</pre></div></div></div></div></div>"
      ],
      "text/plain": [
       "NaiveForecaster(sp=12, strategy='drift')"
      ]
     },
     "execution_count": 46,
     "metadata": {},
     "output_type": "execute_result"
    }
   ],
   "source": [
    "# Model2 train\n",
    "model2.fit(train)"
   ]
  },
  {
   "cell_type": "code",
   "execution_count": 47,
   "id": "0ba7413c",
   "metadata": {},
   "outputs": [],
   "source": [
    "#Model2 predict \n",
    "y_pred2 = model2.predict(fh)"
   ]
  },
  {
   "cell_type": "markdown",
   "id": "d799486c",
   "metadata": {},
   "source": [
    "Plotting the **residuals** can give us information about how the model is performing and the errors it is making.  Sometimes there are reffered to as **in sample** diagnostics. This just means we are looking at diagnostics of data which has been used to fit the model. "
   ]
  },
  {
   "cell_type": "code",
   "execution_count": 48,
   "id": "ea281d14",
   "metadata": {},
   "outputs": [
    {
     "data": {
      "image/png": "[encoded data removed]",
      "text/plain": [
       "<Figure size 500x500 with 1 Axes>"
      ]
     },
     "metadata": {},
     "output_type": "display_data"
    }
   ],
   "source": [
    "# Plot the residuals using Seaborn's `displot()`, `regplot()` and `residplot()` functions.\n",
    "sns.displot( x=test, y = y_pred2)\n",
    "plt.show()"
   ]
  },
  {
   "cell_type": "code",
   "execution_count": 49,
   "id": "fab34ee0",
   "metadata": {},
   "outputs": [
    {
     "data": {
      "text/plain": [
       "<Axes: >"
      ]
     },
     "execution_count": 49,
     "metadata": {},
     "output_type": "execute_result"
    },
    {
     "data": {
      "image/png": "[encoded data removed]",
      "text/plain": [
       "<Figure size 640x480 with 1 Axes>"
      ]
     },
     "metadata": {},
     "output_type": "display_data"
    }
   ],
   "source": [
    "#`regplot()\n",
    "sns.regplot(x = test, y = y_pred2)"
   ]
  },
  {
   "cell_type": "code",
   "execution_count": 50,
   "id": "3082102a",
   "metadata": {},
   "outputs": [
    {
     "data": {
      "text/plain": [
       "<Axes: >"
      ]
     },
     "execution_count": 50,
     "metadata": {},
     "output_type": "execute_result"
    },
    {
     "data": {
      "image/png": "[encoded data removed]",
      "text/plain": [
       "<Figure size 640x480 with 1 Axes>"
      ]
     },
     "metadata": {},
     "output_type": "display_data"
    }
   ],
   "source": [
    "#residplot()\n",
    "sns.residplot(x = test, y = y_pred2)\n"
   ]
  },
  {
   "cell_type": "code",
   "execution_count": null,
   "id": "c9296848",
   "metadata": {},
   "outputs": [],
   "source": []
  },
  {
   "cell_type": "markdown",
   "id": "cc48f8e7",
   "metadata": {},
   "source": [
    "### 2.2 Error Metrics"
   ]
  },
  {
   "cell_type": "markdown",
   "id": "fe927b74",
   "metadata": {},
   "source": [
    "You've probably already worked with the Mean Squared Error (MSE). Let's have a look at different metrics.\n",
    "\n",
    "RMSE and MAE are called 'scale dependent' measures as the units and magnitude are specific to the problem and context.  An alternative approach is to use a scale invariant measure such as the **mean absolute percentage error (MAPE)**\n",
    "\n",
    "The percentage error is given by $p_t = 100e_t/y_t$ where $e_t$ is the error in predicting $y_t$.  Therefore, MAPE = $mean(|p_t|)$. A limitation of MAPE is that it is inflated when the denominator is small relative to the absolute forecast error (such in the case of outliers or extreme unexpected events). It also penalises negative errors more than positive errors.  A consequence of this property is that MAPE can lead to selecting a model that tends to under forecast.  The two following examples illustrate the issue. $$APE_{1} = \\left| \\frac{y_t - \\hat{y_t}}{y_t} \\right|= \\left| \\frac{150 - 100}{150} \\right| = \\frac{50}{150} = 33.33\\%$$  \n",
    "\n",
    "$$APE_{2} = \\left| \\frac{100 - 150}{100} \\right| = \\frac{50}{100} = 50\\%$$"
   ]
  },
  {
   "cell_type": "markdown",
   "id": "8b11b423",
   "metadata": {},
   "source": [
    "**TODO**\n",
    "- Write a function to compute the MAPE\n",
    "- Calculate the in-sample RMSE and MAPE for the last twelve months"
   ]
  },
  {
   "cell_type": "code",
   "execution_count": null,
   "id": "d90d5939",
   "metadata": {},
   "outputs": [],
   "source": [
    "def mean_absolute_percentage_error(y_true, y_pred):\n",
    "    '''\n",
    "    MAPE\n",
    "\n",
    "    Parameters:\n",
    "    --------\n",
    "    y_true -- np.array actual observations from time series\n",
    "    y_pred -- the predictions to evaluate\n",
    "\n",
    "    Returns:\n",
    "    -------\n",
    "    float, scalar value representing the MAPE (0-100)\n",
    "    '''\n",
    "    e = y_pred-y_true\n",
    "    p = 100*e/y_true\n",
    "    MAPE = np.mean(p)\n",
    "    \n",
    "    return"
   ]
  },
  {
   "cell_type": "code",
   "execution_count": 51,
   "id": "dbf103dd",
   "metadata": {},
   "outputs": [
    {
     "name": "stdout",
     "output_type": "stream",
     "text": [
      "RMSE naive Model =  4.546867377984849\n",
      "MAPE naive Model =  0.2507559836819589\n"
     ]
    }
   ],
   "source": [
    "# Your code calculating the RMSE and MAPE for the Naive and Seasonal Naive models\n",
    "from sklearn.metrics import root_mean_squared_error\n",
    "from sklearn.metrics import mean_absolute_percentage_error\n",
    "#Naive Model\n",
    "RMSE_naive = root_mean_squared_error(test, y_pred)\n",
    "MAPE_naive = mean_absolute_percentage_error(test, y_pred)\n",
    "print('RMSE naive Model = ', RMSE_naive)\n",
    "print ('MAPE naive Model = ', MAPE_naive)\n"
   ]
  },
  {
   "cell_type": "code",
   "execution_count": 52,
   "id": "abfd9ea5",
   "metadata": {},
   "outputs": [
    {
     "name": "stdout",
     "output_type": "stream",
     "text": [
      "RMSE Seasonal naive Model =  4.546867377984849\n",
      "MAPE Seasonnal naive Model =  0.2507559836819589\n"
     ]
    }
   ],
   "source": [
    "RMSE_naive_seasonnal = root_mean_squared_error(test, y_pred2)\n",
    "MAPE_naive_seasonnal = mean_absolute_percentage_error(test, y_pred2)\n",
    "print('RMSE Seasonal naive Model = ', RMSE_naive)\n",
    "print ('MAPE Seasonnal naive Model = ', MAPE_naive)"
   ]
  },
  {
   "cell_type": "code",
   "execution_count": 55,
   "id": "8a0084b5",
   "metadata": {},
   "outputs": [
    {
     "data": {
      "text/plain": [
       "(<Figure size 1600x400 with 1 Axes>, <Axes: >)"
      ]
     },
     "execution_count": 55,
     "metadata": {},
     "output_type": "execute_result"
    },
    {
     "data": {
      "image/png": "[encoded data removed]",
      "text/plain": [
       "<Figure size 1600x400 with 1 Axes>"
      ]
     },
     "metadata": {},
     "output_type": "display_data"
    }
   ],
   "source": [
    "\n",
    "# --- Plot the series ---\n",
    "plot_series(train, y_pred2, labels=[\"Train\", \"pred_naive model season\"])"
   ]
  },
  {
   "cell_type": "markdown",
   "id": "fd062799",
   "metadata": {},
   "source": [
    "# 3. ARIMA Forecast"
   ]
  },
  {
   "cell_type": "markdown",
   "id": "96179daf",
   "metadata": {},
   "source": [
    "Let's try an ARIMA model at last. Using a classical statsitical approach you would select the order of model which produces a model with acceptable residual plots (remember the first part of linear regression module?). Selecting the best model can also be done automatically using packages which do it for you! Wohoo! 🎉\n",
    "\n",
    "The `pmdarima` package is an excellent forecasting library for building ARIMA models.  I recommend it over the options available in the core `statsmodels` package.  It is easier to use and offers an `auto_arima()` function that iteratively searches for a model that minimises the **Akaike Information Criterion (AIC)**\n",
    "\n",
    "* ${\\displaystyle \\mathrm {AIC} \\,=\\,2k-2\\ln({\\hat {L}})}$\n",
    "\n",
    "where $k$ = number of parameters in the model and $\\hat{L}$ is the maximum value of the likelihood function for the model.  A likelihood function measures the 'goodness' of fit of a model to data given a set of parameters.  \n",
    "\n",
    "This looks very complicated at first, but all we need to remember is that the models we are working with are very flexible. This means that we can easily create complex models that overfit. Recall that overfitting is when a model will predict the training data exceptionally well, but will perform poorly on out of sample data.  The form of AIC means that it rewards models that fit the training data well, but also penalises models with high $k$ (complicated models with lots of parameters).  That means that AIC will prefer simpler models - in turn reducing overfitting.  That's a great formula for automatically selecting a good ARIMA forecasting model.\n",
    "\n",
    "Even though modern applications tend to opt for the automatic approach for selecting the ARIMA parameters, we will have a go a trying and comparing how we perform with manual selection. As we discussed above, to train an ARIMA($p$,$d$,$q$) model we need to specify three parameters: $p$ (*AR*), $d$ (*I*) and $q$ (*MA*):\n",
    "- To determine $p$, we look at the *direct* correlations, i.e. the *PACF*, and search for the lag $i$ such that $PACF_i \\approx 0$\n",
    "- To determine $q$, we look at the *full* correlations, i.e. the *ACF*, and search for the lag $i$ such that $ACF_i \\approx 0$\n",
    "\n",
    "Sometimes, we cannot apply directly these guidelines, and we must rely on a more detailed analysis or a grid search to determine the best $p,q$ for the problem at hand."
   ]
  },
  {
   "cell_type": "markdown",
   "id": "c7101e4b",
   "metadata": {},
   "source": [
    "### Load the dataset & transform it"
   ]
  },
  {
   "cell_type": "markdown",
   "id": "07578885",
   "metadata": {},
   "source": [
    "ARIMA models can take into account an increasing mean over time, but not the variance. Thus, a log transformation is enough for our purposes!"
   ]
  },
  {
   "cell_type": "code",
   "execution_count": null,
   "id": "82c5ba09",
   "metadata": {},
   "outputs": [],
   "source": [
    "# Reload dataset from pmdarima\n",
    "from pmdarima.datasets import load_airpassengers\n",
    "from pmdarima.utils import acf, pacf\n",
    "from pmdarima import ARIMA\n",
    "\n",
    "# Load dataset\n",
    "START_DATE = '1949-01-01'\n",
    "airline = load_airpassengers(as_series=True)\n",
    "\n",
    "# There's no DateTimeIndex from the bundled dataset. So let's add one.\n",
    "airline.index = pd.date_range(START_DATE, periods=len(airline), freq='MS')\n",
    "\n",
    "# Clean & Adjust data\n",
    "airline_adj = airline / airline.index.days_in_month\n",
    "\n",
    "# Train / Test split\n",
    "train, test = ts_train_test_split(airline_adj, '1960-01-01')\n",
    "\n",
    "# Apply log transformation\n",
    "train_log = np.log(train).dropna()\n",
    "test_log = np.log(test).dropna()"
   ]
  },
  {
   "cell_type": "markdown",
   "id": "3d6a028a",
   "metadata": {},
   "source": [
    "### 3.1 Estimate $p$, $d$ and $q$"
   ]
  },
  {
   "cell_type": "markdown",
   "id": "1339e2db",
   "metadata": {},
   "source": [
    "**TODO**\n",
    "- Based on the analysis done on the previous notebook, what would be a plausible value for $d$ ?\n",
    "- Plot the ACF and PACF and determine some plausible values for $p$ and $q$.\n",
    "- Fit the ARIMA model and show the diagnostics using the `plot_diagnostics()` of pmdarima. Describe the different plots. How do you interpret these results ?"
   ]
  },
  {
   "cell_type": "code",
   "execution_count": null,
   "id": "dbec6749",
   "metadata": {},
   "outputs": [],
   "source": [
    "# Your code for the ACF & PACF plots\n"
   ]
  },
  {
   "cell_type": "code",
   "execution_count": null,
   "id": "1288f630",
   "metadata": {},
   "outputs": [],
   "source": [
    "# Your code for the ARIMA model\n"
   ]
  },
  {
   "cell_type": "markdown",
   "id": "90881a41",
   "metadata": {},
   "source": [
    "**TODO**\n",
    "- Make a figure showing the train set, the test set, the predictions from ARIMA and the confidence intervals\n",
    "- Make a second figure showing the predictions for the next 100 periods\n",
    "- Calculate the RMSE and the MAPE on the test set"
   ]
  },
  {
   "cell_type": "code",
   "execution_count": null,
   "id": "7064cb95",
   "metadata": {},
   "outputs": [],
   "source": [
    "# Your code showing train, test, predictions and confidence interval\n",
    "\n"
   ]
  },
  {
   "cell_type": "code",
   "execution_count": null,
   "id": "6f92fe6c",
   "metadata": {},
   "outputs": [],
   "source": [
    "# Your code for showing the predictions for 100 periods\n",
    "\n"
   ]
  },
  {
   "cell_type": "code",
   "execution_count": null,
   "id": "96eb8a95",
   "metadata": {},
   "outputs": [],
   "source": [
    "from sklearn.metrics import mean_squared_error\n",
    "\n",
    "# Your code calculating the RMSE and MAPE\n"
   ]
  },
  {
   "attachments": {},
   "cell_type": "markdown",
   "id": "48152ef6",
   "metadata": {},
   "source": [
    "**Conclusions**\n",
    "- What are your conclusions ?\n",
    "- What do you think about the error?"
   ]
  },
  {
   "cell_type": "markdown",
   "id": "df043d6d",
   "metadata": {},
   "source": [
    "### 3.2 Seasonal ARIMA"
   ]
  },
  {
   "cell_type": "markdown",
   "id": "c5c03dbf",
   "metadata": {},
   "source": [
    "\n",
    "As we have seen previously, ARMA models are well suited for stationary data. They may even works for data presenting seasonality, however seasonality is not clearly expressed. If data shows seasonality less simple as for the airport's data, calculation complexity and time can explode.\n",
    "\n",
    "**Example** : Data compiling sun activity with a seasonality of 12 +/-1 year would require a minimum of $p=12*12$ to comprehend seasonality of the problem!\n",
    "\n",
    "<span style=\"color: blue\">Here comes SARIMA: Seasonal-ARIMA!</span>\n",
    "\n",
    "The Seasonal ARIMA model, also known as SARIMA, is an extension of the basic ARIMA model that takes into account seasonality in the data. In a SARIMA model, we introduce additional seasonal components to the ARIMA model. The seasonal components mirror the ARIMA components but are applied to the seasonal patterns in the data. So, the SARIMA model has six additional parameters:\n",
    "\n",
    "- Seasonal Autoregressive (SAR) component: This is similar to the AR component but for the seasonal patterns. It represents the relationship between the current value of the time series and its past values at the seasonal frequency.\n",
    "\n",
    "- Seasonal Integrated (SI) component: This is similar to the I component but for the seasonal patterns. It involves differencing the time series at the seasonal frequency to achieve seasonality stationarity.\n",
    "\n",
    "- Seasonal Moving Average (SMA) component: This is similar to the MA component but for the seasonal patterns. It models the relationship between the current value of the time series and past forecast errors at the seasonal frequency.\n",
    "\n",
    "The seasonal frequency $s$ refers to the number of time periods that make up one seasonal cycle, and must also be provided to a SARIMA model. For example, if the time series exhibits a yearly seasonality, the seasonal frequency is 12 (assuming monthly data)."
   ]
  },
  {
   "cell_type": "markdown",
   "id": "1fd8171c",
   "metadata": {},
   "source": [
    "**TODO**\n",
    "- Using a seasonal decomposition of the dataset, separate it into trend, seasonality and residual parts.\n",
    "- Plot the moving mean and std of the trend and seasonal parts of the data.\n",
    "- What can you conclude about stationarity of seasonal data? Can you then define $D$ and the seasonal frequency $s$ ?\n",
    "- Does intra-seasonal data show specific seasonality ? What is $d$ (0, 1, or 2) ?\n",
    "- Use the same procedure applied previously to a build a SARIMA model and evaluate its performance."
   ]
  },
  {
   "cell_type": "code",
   "execution_count": null,
   "id": "ad8e886f",
   "metadata": {},
   "outputs": [],
   "source": [
    "def moving_mean(x, n):\n",
    "    return x.rolling(n).mean()\n",
    "\n",
    "def moving_std(x, n):\n",
    "    return x.rolling(n).std()"
   ]
  },
  {
   "cell_type": "code",
   "execution_count": null,
   "id": "074f0c30",
   "metadata": {},
   "outputs": [],
   "source": [
    "# Decompose the data into a trend and seasonal part\n",
    "from statsmodels.tsa.seasonal import seasonal_decompose\n",
    "\n"
   ]
  },
  {
   "cell_type": "code",
   "execution_count": null,
   "id": "c3dd9b32",
   "metadata": {},
   "outputs": [],
   "source": [
    "# ACF & PACF plots\n",
    "from statsmodels.graphics.tsaplots import plot_acf, plot_pacf\n"
   ]
  },
  {
   "cell_type": "code",
   "execution_count": null,
   "id": "e434dfe7",
   "metadata": {},
   "outputs": [],
   "source": [
    "# Fit the SARIMA model\n",
    "\n"
   ]
  },
  {
   "cell_type": "code",
   "execution_count": null,
   "id": "ce1639ea",
   "metadata": {},
   "outputs": [],
   "source": [
    "# Show train, test, predictions and confidence interval\n",
    "\n"
   ]
  },
  {
   "cell_type": "code",
   "execution_count": null,
   "id": "b5b8a8b7",
   "metadata": {},
   "outputs": [],
   "source": [
    "# Calculate the RMSE and the MAPE\n",
    "from sklearn.metrics import mean_squared_error\n",
    "\n"
   ]
  },
  {
   "cell_type": "markdown",
   "id": "21c8def3",
   "metadata": {},
   "source": [
    "**Conclusions**\n",
    "- What are your conclusions with respect to the previous ARIMA model ?"
   ]
  },
  {
   "cell_type": "markdown",
   "id": "f48044e0",
   "metadata": {},
   "source": [
    "### 3.3 Auto-Arima  🎉"
   ]
  },
  {
   "cell_type": "markdown",
   "id": "45dd66c0",
   "metadata": {},
   "source": [
    "Auto ARIMA is an automated time series forecasting method that automatically selects the best combination of ARIMA model parameters ($p$, $d$, $q$) based on the data's characteristics. It uses algorithms to iteratively search and evaluate different models to find the most suitable one, saving users from manually tuning the parameters. Auto ARIMA is a powerful tool for efficiently forecasting time series data, especially when dealing with large datasets or when users have limited knowledge of time series modeling."
   ]
  },
  {
   "cell_type": "markdown",
   "id": "cc1b2f4e",
   "metadata": {},
   "source": [
    "**TODO**\n",
    "- Fit an `auto_arima` model and plot the diagnostics.\n",
    "- How does it compare to the best model you found previously ?"
   ]
  },
  {
   "cell_type": "code",
   "execution_count": null,
   "id": "886cf961",
   "metadata": {},
   "outputs": [],
   "source": [
    "from pmdarima.arima import auto_arima\n",
    "from sklearn.metrics import mean_squared_error\n",
    "\n",
    "# Your code here\n",
    "\n"
   ]
  },
  {
   "cell_type": "markdown",
   "id": "70396da1",
   "metadata": {},
   "source": [
    "**Conclusions**\n",
    "- How does `auto_arima` perform with respect to your previous models ? Can you explain why ?"
   ]
  },
  {
   "cell_type": "markdown",
   "id": "b2f3a031",
   "metadata": {},
   "source": [
    "# 4. Cross-Validation"
   ]
  },
  {
   "cell_type": "markdown",
   "id": "f75c99fc",
   "metadata": {},
   "source": [
    "As you know, cross-validation is a crucial technique in the context of machine learning, designed to assess the predictive performance of these models and mitigate potential pitfalls associated with using limited data. Unlike traditional cross-validation used in other machine learning applications, time series cross-validation takes into account the temporal order of the data, ensuring that does not have any information from the future that it would not otherwise have at the time of making a forecast. \n",
    "By dividing the time series data into multiple subsets and iteratively validating the model's performance against unseen data, cross-validation provides valuable insights into how well the ARIMA model generalizes to different time periods. This rigorous evaluation will allow you to fine-tune model hyperparameters (such as ARIMA's parameters), assess forecast accuracy, and build more robust and reliable time series forecasting models.\n",
    "\n",
    "In the classicial time series literature, time series cross validation is called a **Rolling Forecasting Horizon**. This is explained in details [here](https://robjhyndman.com/hyndsight/tscv/)"
   ]
  },
  {
   "cell_type": "markdown",
   "id": "fba27fb7",
   "metadata": {},
   "source": [
    "**TODO**\n",
    "- Split the train data into a train and validation sets"
   ]
  },
  {
   "cell_type": "code",
   "execution_count": null,
   "id": "602ebc78",
   "metadata": {},
   "outputs": [
    {
     "ename": "ModuleNotFoundError",
     "evalue": "No module named 'forecast'",
     "output_type": "error",
     "traceback": [
      "\u001b[31m---------------------------------------------------------------------------\u001b[39m",
      "\u001b[31mModuleNotFoundError\u001b[39m                       Traceback (most recent call last)",
      "\u001b[36mCell\u001b[39m\u001b[36m \u001b[39m\u001b[32mIn[32]\u001b[39m\u001b[32m, line 3\u001b[39m\n\u001b[32m      1\u001b[39m \u001b[38;5;66;03m# I've written a function to help with the cv of the baseline model\u001b[39;00m\n\u001b[32m      2\u001b[39m \u001b[38;5;66;03m# THIS FUNCTION IS LOCATED IN THE ./forecast DIRECTORY, ALONG WITH THE NOTEBOOK\u001b[39;00m\n\u001b[32m----> \u001b[39m\u001b[32m3\u001b[39m \u001b[38;5;28;01mfrom\u001b[39;00m\u001b[38;5;250m \u001b[39m\u001b[34;01mforecast\u001b[39;00m\u001b[34;01m.\u001b[39;00m\u001b[34;01mmodel_selection\u001b[39;00m\u001b[38;5;250m \u001b[39m\u001b[38;5;28;01mimport\u001b[39;00m time_series_cv\n\u001b[32m      5\u001b[39m \u001b[38;5;66;03m# It requires the data to be split into train and validation\u001b[39;00m\n\u001b[32m      6\u001b[39m \n\u001b[32m      7\u001b[39m \n\u001b[32m      8\u001b[39m \u001b[38;5;66;03m# Print the sizes to see if it's all good\u001b[39;00m\n",
      "\u001b[31mModuleNotFoundError\u001b[39m: No module named 'forecast'"
     ]
    }
   ],
   "source": [
    "# I've written a function to help with the cv of the baseline model\n",
    "# THIS FUNCTION IS LOCATED IN THE ./forecast DIRECTORY, ALONG WITH THE NOTEBOOK\n",
    "from forecast.model_selection import time_series_cv\n",
    "\n",
    "# It requires the data to be split into train and validation\n",
    "\n",
    "\n",
    "# Print the sizes to see if it's all good\n"
   ]
  },
  {
   "cell_type": "markdown",
   "id": "948da18a",
   "metadata": {},
   "source": [
    "### 4.1 Cross-Validation with Naive model\n",
    "\n",
    "**TODO**\n",
    "- Perform a cross-validation with the Seasonal Naive model you built previously"
   ]
  },
  {
   "cell_type": "code",
   "execution_count": null,
   "id": "2456a664",
   "metadata": {},
   "outputs": [],
   "source": [
    "from sktime.forecasting.naive import NaiveForecaster\n",
    "from sktime.forecasting.base import ForecastingHorizon\n",
    "from sktime.utils.plotting import plot_series\n",
    "\n",
    "HORIZON = 12  # We plan to make forecasts for the following 12 months\n",
    "PERIOD = 12  # Expected period of seasonality\n",
    "\n",
    "# Define the length of time into the future for which forecasts are to be prepared\n",
    "fh = ForecastingHorizon(test.index, is_relative=False)"
   ]
  },
  {
   "cell_type": "code",
   "execution_count": null,
   "id": "02fe42b7",
   "metadata": {},
   "outputs": [],
   "source": [
    "# Define the model\n",
    "\n",
    "\n",
    "# Call time_series_cv\n",
    "\n",
    "\n",
    "# Show results\n"
   ]
  },
  {
   "cell_type": "markdown",
   "id": "1f8cdb30",
   "metadata": {},
   "source": [
    "### 4.2 Cross-Validation with ARIMA"
   ]
  },
  {
   "cell_type": "markdown",
   "id": "afbca360",
   "metadata": {},
   "source": [
    "**TODO**\n",
    "- Perform a cross-validation with your best ARIMA model. \n",
    "- Try different step values in the RollingForecastCV. What's the difference ?\n",
    "- In each case, what's the size of the the data the model is trained on ?\n",
    "- How many splits did we get ?"
   ]
  },
  {
   "cell_type": "code",
   "execution_count": null,
   "id": "ad053f62",
   "metadata": {},
   "outputs": [],
   "source": [
    "from pmdarima.arima import ARIMA\n",
    "from pmdarima.model_selection import RollingForecastCV, cross_val_score\n",
    "\n",
    "# Manually create the arima model\n",
    "\n",
    "\n",
    "# Create a RollingForecastCV instance\n",
    "\n",
    "\n",
    "# Call cross_val_score\n"
   ]
  },
  {
   "cell_type": "markdown",
   "id": "50c6158a",
   "metadata": {},
   "source": [
    "# 5. The Final Forecast"
   ]
  },
  {
   "cell_type": "markdown",
   "id": "76139220",
   "metadata": {},
   "source": [
    "**TODO**\n",
    "- Following the same methodology as above, produce your final forecast with your best model!\n",
    "- Plot the predictions of the **Naive**, **Seasonal Naive**, and your best **SARIMA** model along with the test data, and compare they performances!"
   ]
  },
  {
   "cell_type": "code",
   "execution_count": null,
   "id": "d4c80c21",
   "metadata": {},
   "outputs": [],
   "source": [
    "# Your code here\n",
    "from sktime.utils.plotting import plot_series\n",
    "from sktime.datasets import load_airline\n",
    "from sktime.forecasting.naive import NaiveForecaster\n",
    "from sktime.forecasting.base import ForecastingHorizon\n",
    "\n",
    "from pmdarima.utils import acf, pacf\n",
    "from pmdarima import ARIMA\n",
    "\n",
    "airline = load_airline().dropna()\n",
    "airline = airline / airline.index.days_in_month\n",
    "train, test = ts_train_test_split(airline, '1960-01-01')\n",
    "train_log = np.log(train).dropna()\n",
    "\n",
    "HORIZON = 12  # We plan to make forecasts for the following 12 months\n",
    "PERIOD = 12  # Expected period of seasonality\n",
    "\n",
    "\n",
    "# Define models\n",
    "\n",
    "\n",
    "# Fit models\n",
    "\n",
    "\n",
    "# Create predictions\n",
    "\n",
    "\n",
    "# Plot predictions\n"
   ]
  },
  {
   "attachments": {},
   "cell_type": "markdown",
   "id": "6255549d",
   "metadata": {},
   "source": [
    "# Bonus"
   ]
  },
  {
   "attachments": {},
   "cell_type": "markdown",
   "id": "5330bae9",
   "metadata": {},
   "source": [
    "### B1. Write a class with the following methods:\n",
    "* The necessary arguments to split the dataset, fit the auto_arima model etc.\n",
    "* A `fit` method which fits the auto_arima naive using a train dataset\n",
    "* A `get_metrics` method which computes the MAPE for each models using a test dataset\n",
    "* A `predict` method which takes as input a prediction horizon and returns predicted values.\n",
    "* A `plot` method which plots the data, and if available the predictions \n",
    "\n",
    "**Have some time left ?** \n",
    "* Add a method `get_cv` Which performs cross validation\n",
    "* To further automatize the process, add an automatic detection of the period.\n",
    "* Add the possibility to apply a preprocessing of the data before the fit such as a log transformation."
   ]
  },
  {
   "cell_type": "code",
   "execution_count": null,
   "id": "db317926",
   "metadata": {},
   "outputs": [],
   "source": [
    "# Write your class here\n",
    "\n",
    "\n"
   ]
  },
  {
   "attachments": {},
   "cell_type": "markdown",
   "id": "91c6ed1a",
   "metadata": {},
   "source": [
    "### B2. Test this method on all the other [11 datasets] of pmdarima\n",
    "\n",
    "https://alkaline-ml.com/pmdarima/modules/classes.html#module-pmdarima.datasets\n",
    "To help you, we provide the list of dataset names and a function to load any of these datasets.\n",
    "\n",
    "On some of them the method does not work well, why? What could be done to improve it?"
   ]
  },
  {
   "cell_type": "code",
   "execution_count": null,
   "id": "9c706e5c",
   "metadata": {},
   "outputs": [],
   "source": [
    "dataset_names = ['airpassengers', 'ausbeer', 'austres', 'gasoline', 'heartrate', 'lynx', 'msft', 'sunspots', 'taylor', 'wineind', 'woolyrnq']\n",
    "\n",
    "def get_ds(ds_name, red_factor=None):\n",
    "    '''\n",
    "    Loads a dataset of pmdarima from its ds_name.\n",
    "    '''\n",
    "    ds = getattr(pm.datasets, 'load_'+ds_name)(as_series=True).dropna()\n",
    "    \n",
    "    if red_factor is not None:\n",
    "        assert isinstance(red_factor, int)\n",
    "        ds= ds.groupby(np.arange(ds.index.shape[0])//red_factor).mean()\n",
    "    \n",
    "    return ds.dropna()"
   ]
  },
  {
   "attachments": {},
   "cell_type": "markdown",
   "id": "0c92419d",
   "metadata": {},
   "source": [
    "### B3. Want some more ?\n",
    "\n",
    "Choose your poison: https://data.world/datasets/time-series"
   ]
  }
 ],
 "metadata": {
  "kernelspec": {
   "display_name": "ML6bis",
   "language": "python",
   "name": "python3"
  },
  "language_info": {
   "codemirror_mode": {
    "name": "ipython",
    "version": 3
   },
   "file_extension": ".py",
   "mimetype": "text/x-python",
   "name": "python",
   "nbconvert_exporter": "python",
   "pygments_lexer": "ipython3",
   "version": "3.12.12"
  },
  "toc": {
   "base_numbering": 1,
   "nav_menu": {},
   "number_sections": true,
   "sideBar": true,
   "skip_h1_title": false,
   "title_cell": "Table of Contents",
   "title_sidebar": "Contents",
   "toc_cell": false,
   "toc_position": {},
   "toc_section_display": true,
   "toc_window_display": false
  }
 },
 "nbformat": 4,
 "nbformat_minor": 5
}
